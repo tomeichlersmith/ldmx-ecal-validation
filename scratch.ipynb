{
 "cells": [
  {
   "cell_type": "code",
   "execution_count": 47,
   "id": "34fd9ddc-1165-46d9-af76-442d8c623484",
   "metadata": {
    "tags": []
   },
   "outputs": [],
   "source": [
    "import uproot\n",
    "import matplotlib.pyplot as plt\n",
    "import awkward as ak\n",
    "import numpy as np"
   ]
  },
  {
   "cell_type": "code",
   "execution_count": 81,
   "id": "799bd003-3736-47d1-aefc-8a7040255476",
   "metadata": {
    "tags": []
   },
   "outputs": [],
   "source": [
    "with uproot.open('characterize/no-pn/type_events_energy_4.0_theta_00_phi_0_attarget_False_geometry_v14_events_10000_run_1.root') as f :\n",
    "    a = f['LDMX_Events/EventHeader'].arrays()\n",
    "\n",
    "# easy members who don't need to be rezipped\n",
    "header_reformat = {\n",
    "    key : a[key]\n",
    "    for key in ['eventNumber_','run_','timestamp_.fSec', 'timestamp_.fNanoSec', 'weight_', 'isRealData_']\n",
    "}\n",
    "# hard members who do need to be rezipped\n",
    "for param_type in ['float','int','string']:\n",
    "    for key in np.unique(ak.flatten(a[f'{param_type}Parameters_.first']).to_numpy()):\n",
    "        header_reformat[key] = ak.flatten(a[f'{param_type}Parameters_.second'][a[f'{param_type}Parameters_.first']==key])\n",
    "ak.zip(header_reformat, with_name='EventHeader')"
   ]
  },
  {
   "cell_type": "code",
   "execution_count": 88,
   "id": "a193923b-7fbf-44a2-b2a3-7ad0a9966785",
   "metadata": {
    "tags": []
   },
   "outputs": [],
   "source": [
    "with uproot.open('characterize/no-pn/type_events_energy_4.0_theta_00_phi_0_attarget_False_geometry_v14_events_10000_run_1.root') as f :\n",
    "    a = f['LDMX_Events/SimParticles_valid'].arrays()"
   ]
  },
  {
   "cell_type": "code",
   "execution_count": 92,
   "id": "0440942a-0abc-40ea-afa8-fd7d1f1ade53",
   "metadata": {
    "tags": []
   },
   "outputs": [
    {
     "data": {
      "text/html": [
       "<pre>[[{track_id: 1, energy: 4e+03}],\n",
       " [{track_id: 1, energy: 4e+03}],\n",
       " [{track_id: 1, energy: 4e+03}],\n",
       " [{track_id: 1, energy: 4e+03}],\n",
       " [{track_id: 1, energy: 4e+03}],\n",
       " [{track_id: 1, energy: 4e+03}],\n",
       " [{track_id: 1, energy: 4e+03}],\n",
       " [{track_id: 1, energy: 4e+03}],\n",
       " [{track_id: 1, energy: 4e+03}],\n",
       " [{track_id: 1, energy: 4e+03}],\n",
       " ...,\n",
       " [{track_id: 1, energy: 4e+03}],\n",
       " [{track_id: 1, energy: 4e+03}],\n",
       " [{track_id: 1, energy: 4e+03}],\n",
       " [{track_id: 1, energy: 4e+03}],\n",
       " [{track_id: 1, energy: 4e+03}],\n",
       " [{track_id: 1, energy: 4e+03}],\n",
       " [{track_id: 1, energy: 4e+03}],\n",
       " [{track_id: 1, energy: 4e+03}, {...}, ..., {...}, {track_id: 2607, energy: 1}],\n",
       " [{track_id: 1, energy: 4e+03}]]\n",
       "--------------------------------------------------------------------------------\n",
       "type: 10000 * var * ParticleMap[\n",
       "    track_id: int32,\n",
       "    energy: float64\n",
       "]</pre>"
      ],
      "text/plain": [
       "<Array [[{track_id: 1, energy: ..., ...}], ...] type='10000 * var * Particl...'>"
      ]
     },
     "execution_count": 92,
     "metadata": {},
     "output_type": "execute_result"
    }
   ],
   "source": [
    "ak.zip(\n",
    "    {\n",
    "        'track_id' : a['SimParticles_valid.first'], \n",
    "        'energy'   : a['SimParticles_valid.second.energy_'],\n",
    "    },\n",
    "    with_name='ParticleMap'\n",
    ")"
   ]
  },
  {
   "cell_type": "code",
   "execution_count": null,
   "id": "1b602274-af49-492d-8cc3-a7bed01a9f01",
   "metadata": {
    "tags": []
   },
   "outputs": [],
   "source": []
  },
  {
   "cell_type": "code",
   "execution_count": null,
   "id": "37c66beb-cd68-4098-8b58-6f7dfac0fe1d",
   "metadata": {},
   "outputs": [],
   "source": []
  }
 ],
 "metadata": {
  "kernelspec": {
   "display_name": "Python 3 (ipykernel)",
   "language": "python",
   "name": "python3"
  },
  "language_info": {
   "codemirror_mode": {
    "name": "ipython",
    "version": 3
   },
   "file_extension": ".py",
   "mimetype": "text/x-python",
   "name": "python",
   "nbconvert_exporter": "python",
   "pygments_lexer": "ipython3",
   "version": "3.10.9"
  }
 },
 "nbformat": 4,
 "nbformat_minor": 5
}
