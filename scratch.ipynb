{
 "cells": [
  {
   "cell_type": "markdown",
   "id": "78509ad4-c555-485f-8835-3321a476432b",
   "metadata": {},
   "source": [
    "# Initial Validation Scratch Work"
   ]
  },
  {
   "cell_type": "code",
   "execution_count": null,
   "id": "39238bb8-6d3c-40ef-9e2f-ddb766dff07b",
   "metadata": {},
   "outputs": [],
   "source": []
  }
 ],
 "metadata": {
  "kernelspec": {
   "display_name": "Python 3 (ipykernel)",
   "language": "python",
   "name": "python3"
  },
  "language_info": {
   "codemirror_mode": {
    "name": "ipython",
    "version": 3
   },
   "file_extension": ".py",
   "mimetype": "text/x-python",
   "name": "python",
   "nbconvert_exporter": "python",
   "pygments_lexer": "ipython3",
   "version": "3.8.10"
  }
 },
 "nbformat": 4,
 "nbformat_minor": 5
}
