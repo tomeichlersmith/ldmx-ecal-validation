{
 "cells": [
  {
   "cell_type": "markdown",
   "id": "78509ad4-c555-485f-8835-3321a476432b",
   "metadata": {
    "tags": []
   },
   "source": [
    "# Initial Validation Scratch Work\n",
    "\n",
    "- [uproot Getting Started Guide](https://uproot.readthedocs.io/en/latest/basic.html)\n",
    "- [pandas User Guide](https://pandas.pydata.org/docs/user_guide/index.html)\n",
    "- [matplotlib](https://matplotlib.org/stable/index.html)"
   ]
  },
  {
   "cell_type": "code",
   "execution_count": 1,
   "id": "39238bb8-6d3c-40ef-9e2f-ddb766dff07b",
   "metadata": {},
   "outputs": [],
   "source": [
    "import uproot\n",
    "import pandas\n",
    "import matplotlib.pyplot as plt"
   ]
  },
  {
   "cell_type": "code",
   "execution_count": 2,
   "id": "e4ab669f-fd8a-45ca-865f-1b4e22ec17d1",
   "metadata": {
    "tags": []
   },
   "outputs": [
    {
     "data": {
      "text/plain": [
       "'/home/laurenwills/ldmx/ecal-validation'"
      ]
     },
     "execution_count": 2,
     "metadata": {},
     "output_type": "execute_result"
    }
   ],
   "source": [
    "import os\n",
    "os.getcwd()"
   ]
  },
  {
   "cell_type": "code",
   "execution_count": 3,
   "id": "adc93f7f-12ac-4dcb-b3f4-3ebf6548d16d",
   "metadata": {},
   "outputs": [],
   "source": [
    "f = uproot.open('simulation_geometry_v12_events_10_run_1.root')"
   ]
  },
  {
   "cell_type": "code",
   "execution_count": 4,
   "id": "d49d66a0-2b72-4901-b600-a34ad47741f2",
   "metadata": {},
   "outputs": [
    {
     "data": {
      "text/plain": [
       "['LDMX_Events;1', 'LDMX_Run;1']"
      ]
     },
     "execution_count": 4,
     "metadata": {},
     "output_type": "execute_result"
    }
   ],
   "source": [
    "f.keys()"
   ]
  },
  {
   "cell_type": "code",
   "execution_count": 11,
   "id": "a3a8a526-a83e-464c-965d-3d02dae023ef",
   "metadata": {},
   "outputs": [
    {
     "data": {
      "text/plain": [
       "['SimParticles_valid',\n",
       " 'SimParticles_valid/SimParticles_valid.first',\n",
       " 'SimParticles_valid/SimParticles_valid.second.energy_',\n",
       " 'SimParticles_valid/SimParticles_valid.second.pdgID_',\n",
       " 'SimParticles_valid/SimParticles_valid.second.genStatus_',\n",
       " 'SimParticles_valid/SimParticles_valid.second.time_',\n",
       " 'SimParticles_valid/SimParticles_valid.second.x_',\n",
       " 'SimParticles_valid/SimParticles_valid.second.y_',\n",
       " 'SimParticles_valid/SimParticles_valid.second.z_',\n",
       " 'SimParticles_valid/SimParticles_valid.second.endX_',\n",
       " 'SimParticles_valid/SimParticles_valid.second.endY_',\n",
       " 'SimParticles_valid/SimParticles_valid.second.endZ_',\n",
       " 'SimParticles_valid/SimParticles_valid.second.px_',\n",
       " 'SimParticles_valid/SimParticles_valid.second.py_',\n",
       " 'SimParticles_valid/SimParticles_valid.second.pz_',\n",
       " 'SimParticles_valid/SimParticles_valid.second.endpx_',\n",
       " 'SimParticles_valid/SimParticles_valid.second.endpy_',\n",
       " 'SimParticles_valid/SimParticles_valid.second.endpz_',\n",
       " 'SimParticles_valid/SimParticles_valid.second.mass_',\n",
       " 'SimParticles_valid/SimParticles_valid.second.charge_',\n",
       " 'SimParticles_valid/SimParticles_valid.second.daughters_',\n",
       " 'SimParticles_valid/SimParticles_valid.second.parents_',\n",
       " 'SimParticles_valid/SimParticles_valid.second.processType_',\n",
       " 'SimParticles_valid/SimParticles_valid.second.vertexVolume_',\n",
       " 'TaggerSimHits_valid',\n",
       " 'TaggerSimHits_valid/TaggerSimHits_valid.id_',\n",
       " 'TaggerSimHits_valid/TaggerSimHits_valid.layerID_',\n",
       " 'TaggerSimHits_valid/TaggerSimHits_valid.moduleID_',\n",
       " 'TaggerSimHits_valid/TaggerSimHits_valid.edep_',\n",
       " 'TaggerSimHits_valid/TaggerSimHits_valid.time_',\n",
       " 'TaggerSimHits_valid/TaggerSimHits_valid.px_',\n",
       " 'TaggerSimHits_valid/TaggerSimHits_valid.py_',\n",
       " 'TaggerSimHits_valid/TaggerSimHits_valid.pz_',\n",
       " 'TaggerSimHits_valid/TaggerSimHits_valid.energy_',\n",
       " 'TaggerSimHits_valid/TaggerSimHits_valid.x_',\n",
       " 'TaggerSimHits_valid/TaggerSimHits_valid.y_',\n",
       " 'TaggerSimHits_valid/TaggerSimHits_valid.z_',\n",
       " 'TaggerSimHits_valid/TaggerSimHits_valid.pathLength_',\n",
       " 'TaggerSimHits_valid/TaggerSimHits_valid.trackID_',\n",
       " 'TaggerSimHits_valid/TaggerSimHits_valid.pdgID_',\n",
       " 'RecoilSimHits_valid',\n",
       " 'RecoilSimHits_valid/RecoilSimHits_valid.id_',\n",
       " 'RecoilSimHits_valid/RecoilSimHits_valid.layerID_',\n",
       " 'RecoilSimHits_valid/RecoilSimHits_valid.moduleID_',\n",
       " 'RecoilSimHits_valid/RecoilSimHits_valid.edep_',\n",
       " 'RecoilSimHits_valid/RecoilSimHits_valid.time_',\n",
       " 'RecoilSimHits_valid/RecoilSimHits_valid.px_',\n",
       " 'RecoilSimHits_valid/RecoilSimHits_valid.py_',\n",
       " 'RecoilSimHits_valid/RecoilSimHits_valid.pz_',\n",
       " 'RecoilSimHits_valid/RecoilSimHits_valid.energy_',\n",
       " 'RecoilSimHits_valid/RecoilSimHits_valid.x_',\n",
       " 'RecoilSimHits_valid/RecoilSimHits_valid.y_',\n",
       " 'RecoilSimHits_valid/RecoilSimHits_valid.z_',\n",
       " 'RecoilSimHits_valid/RecoilSimHits_valid.pathLength_',\n",
       " 'RecoilSimHits_valid/RecoilSimHits_valid.trackID_',\n",
       " 'RecoilSimHits_valid/RecoilSimHits_valid.pdgID_',\n",
       " 'HcalSimHits_valid',\n",
       " 'HcalSimHits_valid/HcalSimHits_valid.id_',\n",
       " 'HcalSimHits_valid/HcalSimHits_valid.edep_',\n",
       " 'HcalSimHits_valid/HcalSimHits_valid.x_',\n",
       " 'HcalSimHits_valid/HcalSimHits_valid.y_',\n",
       " 'HcalSimHits_valid/HcalSimHits_valid.z_',\n",
       " 'HcalSimHits_valid/HcalSimHits_valid.time_',\n",
       " 'HcalSimHits_valid/HcalSimHits_valid.trackIDContribs_',\n",
       " 'HcalSimHits_valid/HcalSimHits_valid.incidentIDContribs_',\n",
       " 'HcalSimHits_valid/HcalSimHits_valid.pdgCodeContribs_',\n",
       " 'HcalSimHits_valid/HcalSimHits_valid.edepContribs_',\n",
       " 'HcalSimHits_valid/HcalSimHits_valid.timeContribs_',\n",
       " 'HcalSimHits_valid/HcalSimHits_valid.nContribs_',\n",
       " 'HcalSimHits_valid/HcalSimHits_valid.pathLength_',\n",
       " 'HcalSimHits_valid/HcalSimHits_valid.preStepX_',\n",
       " 'HcalSimHits_valid/HcalSimHits_valid.preStepY_',\n",
       " 'HcalSimHits_valid/HcalSimHits_valid.preStepZ_',\n",
       " 'HcalSimHits_valid/HcalSimHits_valid.preStepTime_',\n",
       " 'HcalSimHits_valid/HcalSimHits_valid.postStepX_',\n",
       " 'HcalSimHits_valid/HcalSimHits_valid.postStepY_',\n",
       " 'HcalSimHits_valid/HcalSimHits_valid.postStepZ_',\n",
       " 'HcalSimHits_valid/HcalSimHits_valid.postStepTime_',\n",
       " 'HcalSimHits_valid/HcalSimHits_valid.velocity_',\n",
       " 'EcalSimHits_valid',\n",
       " 'EcalSimHits_valid/EcalSimHits_valid.id_',\n",
       " 'EcalSimHits_valid/EcalSimHits_valid.edep_',\n",
       " 'EcalSimHits_valid/EcalSimHits_valid.x_',\n",
       " 'EcalSimHits_valid/EcalSimHits_valid.y_',\n",
       " 'EcalSimHits_valid/EcalSimHits_valid.z_',\n",
       " 'EcalSimHits_valid/EcalSimHits_valid.time_',\n",
       " 'EcalSimHits_valid/EcalSimHits_valid.trackIDContribs_',\n",
       " 'EcalSimHits_valid/EcalSimHits_valid.incidentIDContribs_',\n",
       " 'EcalSimHits_valid/EcalSimHits_valid.pdgCodeContribs_',\n",
       " 'EcalSimHits_valid/EcalSimHits_valid.edepContribs_',\n",
       " 'EcalSimHits_valid/EcalSimHits_valid.timeContribs_',\n",
       " 'EcalSimHits_valid/EcalSimHits_valid.nContribs_',\n",
       " 'EcalSimHits_valid/EcalSimHits_valid.pathLength_',\n",
       " 'EcalSimHits_valid/EcalSimHits_valid.preStepX_',\n",
       " 'EcalSimHits_valid/EcalSimHits_valid.preStepY_',\n",
       " 'EcalSimHits_valid/EcalSimHits_valid.preStepZ_',\n",
       " 'EcalSimHits_valid/EcalSimHits_valid.preStepTime_',\n",
       " 'EcalSimHits_valid/EcalSimHits_valid.postStepX_',\n",
       " 'EcalSimHits_valid/EcalSimHits_valid.postStepY_',\n",
       " 'EcalSimHits_valid/EcalSimHits_valid.postStepZ_',\n",
       " 'EcalSimHits_valid/EcalSimHits_valid.postStepTime_',\n",
       " 'EcalSimHits_valid/EcalSimHits_valid.velocity_',\n",
       " 'TriggerPadTaggerBSimHits_valid',\n",
       " 'TriggerPadTaggerBSimHits_valid/TriggerPadTaggerBSimHits_valid.id_',\n",
       " 'TriggerPadTaggerBSimHits_valid/TriggerPadTaggerBSimHits_valid.edep_',\n",
       " 'TriggerPadTaggerBSimHits_valid/TriggerPadTaggerBSimHits_valid.x_',\n",
       " 'TriggerPadTaggerBSimHits_valid/TriggerPadTaggerBSimHits_valid.y_',\n",
       " 'TriggerPadTaggerBSimHits_valid/TriggerPadTaggerBSimHits_valid.z_',\n",
       " 'TriggerPadTaggerBSimHits_valid/TriggerPadTaggerBSimHits_valid.time_',\n",
       " 'TriggerPadTaggerBSimHits_valid/TriggerPadTaggerBSimHits_valid.trackIDContribs_',\n",
       " 'TriggerPadTaggerBSimHits_valid/TriggerPadTaggerBSimHits_valid.incidentIDContribs_',\n",
       " 'TriggerPadTaggerBSimHits_valid/TriggerPadTaggerBSimHits_valid.pdgCodeContribs_',\n",
       " 'TriggerPadTaggerBSimHits_valid/TriggerPadTaggerBSimHits_valid.edepContribs_',\n",
       " 'TriggerPadTaggerBSimHits_valid/TriggerPadTaggerBSimHits_valid.timeContribs_',\n",
       " 'TriggerPadTaggerBSimHits_valid/TriggerPadTaggerBSimHits_valid.nContribs_',\n",
       " 'TriggerPadTaggerBSimHits_valid/TriggerPadTaggerBSimHits_valid.pathLength_',\n",
       " 'TriggerPadTaggerBSimHits_valid/TriggerPadTaggerBSimHits_valid.preStepX_',\n",
       " 'TriggerPadTaggerBSimHits_valid/TriggerPadTaggerBSimHits_valid.preStepY_',\n",
       " 'TriggerPadTaggerBSimHits_valid/TriggerPadTaggerBSimHits_valid.preStepZ_',\n",
       " 'TriggerPadTaggerBSimHits_valid/TriggerPadTaggerBSimHits_valid.preStepTime_',\n",
       " 'TriggerPadTaggerBSimHits_valid/TriggerPadTaggerBSimHits_valid.postStepX_',\n",
       " 'TriggerPadTaggerBSimHits_valid/TriggerPadTaggerBSimHits_valid.postStepY_',\n",
       " 'TriggerPadTaggerBSimHits_valid/TriggerPadTaggerBSimHits_valid.postStepZ_',\n",
       " 'TriggerPadTaggerBSimHits_valid/TriggerPadTaggerBSimHits_valid.postStepTime_',\n",
       " 'TriggerPadTaggerBSimHits_valid/TriggerPadTaggerBSimHits_valid.velocity_',\n",
       " 'TriggerPadTaggerASimHits_valid',\n",
       " 'TriggerPadTaggerASimHits_valid/TriggerPadTaggerASimHits_valid.id_',\n",
       " 'TriggerPadTaggerASimHits_valid/TriggerPadTaggerASimHits_valid.edep_',\n",
       " 'TriggerPadTaggerASimHits_valid/TriggerPadTaggerASimHits_valid.x_',\n",
       " 'TriggerPadTaggerASimHits_valid/TriggerPadTaggerASimHits_valid.y_',\n",
       " 'TriggerPadTaggerASimHits_valid/TriggerPadTaggerASimHits_valid.z_',\n",
       " 'TriggerPadTaggerASimHits_valid/TriggerPadTaggerASimHits_valid.time_',\n",
       " 'TriggerPadTaggerASimHits_valid/TriggerPadTaggerASimHits_valid.trackIDContribs_',\n",
       " 'TriggerPadTaggerASimHits_valid/TriggerPadTaggerASimHits_valid.incidentIDContribs_',\n",
       " 'TriggerPadTaggerASimHits_valid/TriggerPadTaggerASimHits_valid.pdgCodeContribs_',\n",
       " 'TriggerPadTaggerASimHits_valid/TriggerPadTaggerASimHits_valid.edepContribs_',\n",
       " 'TriggerPadTaggerASimHits_valid/TriggerPadTaggerASimHits_valid.timeContribs_',\n",
       " 'TriggerPadTaggerASimHits_valid/TriggerPadTaggerASimHits_valid.nContribs_',\n",
       " 'TriggerPadTaggerASimHits_valid/TriggerPadTaggerASimHits_valid.pathLength_',\n",
       " 'TriggerPadTaggerASimHits_valid/TriggerPadTaggerASimHits_valid.preStepX_',\n",
       " 'TriggerPadTaggerASimHits_valid/TriggerPadTaggerASimHits_valid.preStepY_',\n",
       " 'TriggerPadTaggerASimHits_valid/TriggerPadTaggerASimHits_valid.preStepZ_',\n",
       " 'TriggerPadTaggerASimHits_valid/TriggerPadTaggerASimHits_valid.preStepTime_',\n",
       " 'TriggerPadTaggerASimHits_valid/TriggerPadTaggerASimHits_valid.postStepX_',\n",
       " 'TriggerPadTaggerASimHits_valid/TriggerPadTaggerASimHits_valid.postStepY_',\n",
       " 'TriggerPadTaggerASimHits_valid/TriggerPadTaggerASimHits_valid.postStepZ_',\n",
       " 'TriggerPadTaggerASimHits_valid/TriggerPadTaggerASimHits_valid.postStepTime_',\n",
       " 'TriggerPadTaggerASimHits_valid/TriggerPadTaggerASimHits_valid.velocity_',\n",
       " 'EventHeader',\n",
       " 'EventHeader/eventNumber_',\n",
       " 'EventHeader/run_',\n",
       " 'EventHeader/timestamp_',\n",
       " 'EventHeader/timestamp_/timestamp_.fSec',\n",
       " 'EventHeader/timestamp_/timestamp_.fNanoSec',\n",
       " 'EventHeader/weight_',\n",
       " 'EventHeader/isRealData_',\n",
       " 'EventHeader/intParameters_',\n",
       " 'EventHeader/intParameters_/intParameters_.first',\n",
       " 'EventHeader/intParameters_/intParameters_.second',\n",
       " 'EventHeader/floatParameters_',\n",
       " 'EventHeader/floatParameters_/floatParameters_.first',\n",
       " 'EventHeader/floatParameters_/floatParameters_.second',\n",
       " 'EventHeader/stringParameters_',\n",
       " 'EventHeader/stringParameters_/stringParameters_.first',\n",
       " 'EventHeader/stringParameters_/stringParameters_.second']"
      ]
     },
     "execution_count": 11,
     "metadata": {},
     "output_type": "execute_result"
    }
   ],
   "source": [
    "f['LDMX_Events'].keys()"
   ]
  },
  {
   "cell_type": "code",
   "execution_count": 5,
   "id": "cd668237-e3bc-4dc7-ad7d-2b5ddd3701ab",
   "metadata": {},
   "outputs": [],
   "source": [
    "df = f['LDMX_Events'].arrays(filter_name='EcalSimHits_valid*',library='pd')"
   ]
  },
  {
   "cell_type": "code",
   "execution_count": 6,
   "id": "ddaeb84a-0092-4157-a2cd-3fb2ca307143",
   "metadata": {},
   "outputs": [],
   "source": [
    "df['layer'] = (df['EcalSimHits_valid.id_'].values >> 17) & 0x3f"
   ]
  },
  {
   "cell_type": "code",
   "execution_count": 10,
   "id": "0eda8f42-8729-4712-ba74-7eddf25938b7",
   "metadata": {},
   "outputs": [
    {
     "data": {
      "text/plain": [
       "(array([132., 226., 124.,  86.,  56.,  50.,  42.,  35.,  26.,  22.,  24.,\n",
       "         18.,  12.,   7.,  11.,  10.,   3.,   6.,   9.,   5.,   2.,   1.,\n",
       "          4.,   2.,   0.,   2.,   1.,   1.,   0.,   1.,   0.,   1.,   1.,\n",
       "          1.,   1.,   1.,   1.,   1.,   1.,   2.,   0.,   0.,   0.,   1.,\n",
       "          0.,   0.,   0.,   0.,   1.,   1.]),\n",
       " array([8.79339990e-04, 1.23529382e-01, 2.46179417e-01, 3.68829459e-01,\n",
       "        4.91479516e-01, 6.14129543e-01, 7.36779571e-01, 8.59429598e-01,\n",
       "        9.82079685e-01, 1.10472965e+00, 1.22737980e+00, 1.35002983e+00,\n",
       "        1.47267985e+00, 1.59532988e+00, 1.71797991e+00, 1.84062994e+00,\n",
       "        1.96327996e+00, 2.08593011e+00, 2.20858002e+00, 2.33123016e+00,\n",
       "        2.45388007e+00, 2.57653022e+00, 2.69918013e+00, 2.82183027e+00,\n",
       "        2.94448042e+00, 3.06713033e+00, 3.18978047e+00, 3.31243038e+00,\n",
       "        3.43508053e+00, 3.55773044e+00, 3.68038058e+00, 3.80303049e+00,\n",
       "        3.92568064e+00, 4.04833078e+00, 4.17098093e+00, 4.29363060e+00,\n",
       "        4.41628075e+00, 4.53893089e+00, 4.66158104e+00, 4.78423071e+00,\n",
       "        4.90688086e+00, 5.02953100e+00, 5.15218115e+00, 5.27483130e+00,\n",
       "        5.39748096e+00, 5.52013111e+00, 5.64278126e+00, 5.76543140e+00,\n",
       "        5.88808107e+00, 6.01073122e+00, 6.13338137e+00]),\n",
       " <BarContainer object of 50 artists>)"
      ]
     },
     "execution_count": 10,
     "metadata": {},
     "output_type": "execute_result"
    },
    {
     "data": {
      "image/png": "[encoded data removed]",
      "text/plain": [
       "<Figure size 640x480 with 1 Axes>"
      ]
     },
     "metadata": {},
     "output_type": "display_data"
    }
   ],
   "source": [
    "plt.hist(df['EcalSimHits_valid.edep_'],bins=50)"
   ]
  },
  {
   "cell_type": "code",
   "execution_count": 8,
   "id": "22a9fa77-8baa-4cd4-9132-20c85c634f0c",
   "metadata": {},
   "outputs": [
    {
     "data": {
      "text/plain": [
       "(array([ 45., 118., 251., 258., 125.,  84.,  27.,  17.,   5.,   1.]),\n",
       " array([ 0. ,  2.8,  5.6,  8.4, 11.2, 14. , 16.8, 19.6, 22.4, 25.2, 28. ]),\n",
       " <BarContainer object of 10 artists>)"
      ]
     },
     "execution_count": 8,
     "metadata": {},
     "output_type": "execute_result"
    },
    {
     "data": {
      "image/png": "[encoded data removed]",
      "text/plain": [
       "<Figure size 640x480 with 1 Axes>"
      ]
     },
     "metadata": {},
     "output_type": "display_data"
    }
   ],
   "source": [
    "plt.hist(df['layer'])"
   ]
  },
  {
   "cell_type": "code",
   "execution_count": null,
   "id": "2c251dc9-85ba-4b73-9885-65d6768f980a",
   "metadata": {},
   "outputs": [],
   "source": []
  }
 ],
 "metadata": {
  "kernelspec": {
   "display_name": "Python 3 (ipykernel)",
   "language": "python",
   "name": "python3"
  },
  "language_info": {
   "codemirror_mode": {
    "name": "ipython",
    "version": 3
   },
   "file_extension": ".py",
   "mimetype": "text/x-python",
   "name": "python",
   "nbconvert_exporter": "python",
   "pygments_lexer": "ipython3",
   "version": "3.8.10"
  }
 },
 "nbformat": 4,
 "nbformat_minor": 5
}
